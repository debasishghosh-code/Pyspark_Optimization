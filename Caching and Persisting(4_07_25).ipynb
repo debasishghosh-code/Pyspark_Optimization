{
 "cells": [
  {
   "cell_type": "code",
   "execution_count": 0,
   "metadata": {
    "application/vnd.databricks.v1+cell": {
     "cellMetadata": {
      "byteLimit": 2048000,
      "rowLimit": 10000
     },
     "inputWidgets": {},
     "nuid": "61dbd1fc-93dc-4877-a89d-3da8abd9f31a",
     "showTitle": false,
     "tableResultSettingsMap": {},
     "title": ""
    }
   },
   "outputs": [],
   "source": [
    "from IPython.core.interactiveshell import InteractiveShell\n",
    "InteractiveShell.ast_node_interactivity = 'all'"
   ]
  },
  {
   "cell_type": "code",
   "execution_count": 0,
   "metadata": {
    "application/vnd.databricks.v1+cell": {
     "cellMetadata": {
      "byteLimit": 2048000,
      "rowLimit": 10000
     },
     "inputWidgets": {},
     "nuid": "2889fbc7-49fc-4cf2-8379-10faf656e53f",
     "showTitle": false,
     "tableResultSettingsMap": {},
     "title": ""
    }
   },
   "outputs": [],
   "source": [
    "from pyspark.storagelevel import StorageLevel\n",
    "from pyspark.sql.types import *\n",
    "import pyspark.sql.functions as F\n",
    "from pyspark.sql import SparkSession"
   ]
  },
  {
   "cell_type": "code",
   "execution_count": 0,
   "metadata": {
    "application/vnd.databricks.v1+cell": {
     "cellMetadata": {
      "byteLimit": 2048000,
      "rowLimit": 10000
     },
     "inputWidgets": {},
     "nuid": "a3e00b82-f68e-462e-8c11-eada81645e29",
     "showTitle": false,
     "tableResultSettingsMap": {},
     "title": ""
    }
   },
   "outputs": [],
   "source": [
    "spark = (\n",
    "    SparkSession\n",
    "    .builder\n",
    "    .config(\"spark.driver.memory\", \"10g\")\n",
    "    .config(\"spark.sql.files.maxPartitionBytes\", \"268435456\")\n",
    "    .config(\"spark.serializer\", \"org.apache.spark.serializer.KryoSerializer\")\n",
    "    .master(\"local[*]\")\n",
    "    .getOrCreate()\n",
    ")\n",
    "sc = spark.sparkContext\n",
    "sc.setLogLevel(\"ERROR\")"
   ]
  },
  {
   "cell_type": "code",
   "execution_count": 0,
   "metadata": {
    "application/vnd.databricks.v1+cell": {
     "cellMetadata": {
      "byteLimit": 2048000,
      "rowLimit": 10000
     },
     "inputWidgets": {},
     "nuid": "2f15b181-a3cc-4893-a28a-774d32d780e2",
     "showTitle": false,
     "tableResultSettingsMap": {},
     "title": ""
    }
   },
   "outputs": [],
   "source": [
    "customers_file = \"dbfs:/FileStore/customer\"\n",
    "df_customers = spark.read.parquet(customers_file)"
   ]
  },
  {
   "cell_type": "code",
   "execution_count": 0,
   "metadata": {
    "application/vnd.databricks.v1+cell": {
     "cellMetadata": {
      "byteLimit": 2048000,
      "rowLimit": 10000
     },
     "inputWidgets": {},
     "nuid": "05d6e0d1-0d85-4418-a515-d18cd6a08aeb",
     "showTitle": false,
     "tableResultSettingsMap": {},
     "title": ""
    }
   },
   "outputs": [
    {
     "output_type": "stream",
     "name": "stdout",
     "output_type": "stream",
     "text": [
      "+----------+-------------+---+------+----------+-----+-----------+\n|cust_id   |name         |age|gender|birthday  |zip  |city       |\n+----------+-------------+---+------+----------+-----+-----------+\n|C007YEYTX9|Aaron Abbott |34 |Female|7/13/1991 |97823|boston     |\n|C00B971T1J|Aaron Austin |37 |Female|12/16/2004|30332|chicago    |\n|C00WRSJF1Q|Aaron Barnes |29 |Female|3/11/1977 |23451|denver     |\n|C01AZWQMF3|Aaron Barrett|31 |Male  |7/9/1998  |46613|los_angeles|\n|C01BKUFRHA|Aaron Becker |54 |Male  |11/24/1979|40284|san_diego  |\n+----------+-------------+---+------+----------+-----+-----------+\nonly showing top 5 rows\n\n"
     ]
    }
   ],
   "source": [
    "df_customers.show(5, False)"
   ]
  },
  {
   "cell_type": "code",
   "execution_count": 0,
   "metadata": {
    "application/vnd.databricks.v1+cell": {
     "cellMetadata": {
      "byteLimit": 2048000,
      "rowLimit": 10000
     },
     "inputWidgets": {},
     "nuid": "981925cf-6eff-4f14-9aac-3b6de44e97a2",
     "showTitle": false,
     "tableResultSettingsMap": {},
     "title": ""
    }
   },
   "outputs": [
    {
     "output_type": "stream",
     "name": "stdout",
     "output_type": "stream",
     "text": [
      "Out[16]: DataFrame[cust_id: string, name: string, age: string, gender: string, birthday: string, zip: string, city: string, customer_group: string]+----------+--------------+---+------+---------+-----+------+--------------+\n|cust_id   |name          |age|gender|birthday |zip  |city  |customer_group|\n+----------+--------------+---+------+---------+-----+------+--------------+\n|C007YEYTX9|Aaron Abbott  |34 |Female|7/13/1991|97823|boston|mid           |\n|C08XAQUY73|Aaron Lambert |54 |Female|11/5/1966|75218|boston|old           |\n|C094P1VXF9|Aaron Lindsey |24 |Male  |9/21/1990|29399|boston|young         |\n|C097SHE1EF|Aaron Lopez   |22 |Female|4/18/2001|82129|boston|young         |\n|C0DTC6436T|Aaron Schwartz|52 |Female|7/9/1962 |57192|boston|old           |\n+----------+--------------+---+------+---------+-----+------+--------------+\nonly showing top 5 rows\n\n"
     ]
    }
   ],
   "source": [
    "df_base = (\n",
    "    df_customers\n",
    "    .filter(F.col(\"city\") == \"boston\")\n",
    "    .withColumn(\n",
    "        \"customer_group\", \n",
    "        F.when(\n",
    "            F.col(\"age\").between(20, 30), \n",
    "            F.lit(\"young\") \n",
    "        )\n",
    "        .when(\n",
    "            F.col(\"age\").between(31, 50), \n",
    "            F.lit(\"mid\") \n",
    "        )\n",
    "        .when(\n",
    "            F.col(\"age\") > 51, \n",
    "            F.lit(\"old\") \n",
    "        )\n",
    "        .otherwise(F.lit(\"kid\"))\n",
    "     )\n",
    "    .select(\"cust_id\", \"name\", \"age\", \"gender\", \"birthday\", \"zip\", \"city\", \"customer_group\")\n",
    ")\n",
    "\n",
    "df_base.cache() \n",
    "df_base.show(5, False)"
   ]
  },
  {
   "cell_type": "code",
   "execution_count": 0,
   "metadata": {
    "application/vnd.databricks.v1+cell": {
     "cellMetadata": {
      "byteLimit": 2048000,
      "rowLimit": 10000
     },
     "inputWidgets": {},
     "nuid": "ce3a5383-e305-4e32-a613-ad684a9b92c8",
     "showTitle": false,
     "tableResultSettingsMap": {},
     "title": ""
    }
   },
   "outputs": [
    {
     "output_type": "stream",
     "name": "stdout",
     "output_type": "stream",
     "text": [
      "Out[13]: DataFrame[cust_id: string, name: string, age: string, gender: string, birthday: string, zip: string, city: string, customer_group: string]"
     ]
    }
   ],
   "source": [
    "#df_base.unpersist()"
   ]
  },
  {
   "cell_type": "code",
   "execution_count": 0,
   "metadata": {
    "application/vnd.databricks.v1+cell": {
     "cellMetadata": {
      "byteLimit": 2048000,
      "rowLimit": 10000
     },
     "inputWidgets": {},
     "nuid": "45759b6b-e291-4172-ad1c-1130f23b4f41",
     "showTitle": false,
     "tableResultSettingsMap": {},
     "title": ""
    }
   },
   "outputs": [
    {
     "output_type": "stream",
     "name": "stdout",
     "output_type": "stream",
     "text": [
      "== Parsed Logical Plan ==\n'Project [cust_id#2, name#3, age#4, gender#5, birthday#6, zip#7, city#8, customer_group#697, test_column_1#1303, split('birthday, /, -1)[2] AS birth_year#1313]\n+- Project [cust_id#2, name#3, age#4, gender#5, birthday#6, zip#7, city#8, customer_group#697, test_column_1 AS test_column_1#1303]\n   +- Project [cust_id#2, name#3, age#4, gender#5, birthday#6, zip#7, city#8, customer_group#697]\n      +- Project [cust_id#2, name#3, age#4, gender#5, birthday#6, zip#7, city#8, CASE WHEN ((cast(age#4 as int) >= 20) AND (cast(age#4 as int) <= 30)) THEN young WHEN ((cast(age#4 as int) >= 31) AND (cast(age#4 as int) <= 50)) THEN mid WHEN (cast(age#4 as int) > 51) THEN old ELSE kid END AS customer_group#697]\n         +- Filter (city#8 = boston)\n            +- Relation [cust_id#2,name#3,age#4,gender#5,birthday#6,zip#7,city#8] parquet\n\n== Analyzed Logical Plan ==\ncust_id: string, name: string, age: string, gender: string, birthday: string, zip: string, city: string, customer_group: string, test_column_1: string, birth_year: string\nProject [cust_id#2, name#3, age#4, gender#5, birthday#6, zip#7, city#8, customer_group#697, test_column_1#1303, split(birthday#6, /, -1)[2] AS birth_year#1313]\n+- Project [cust_id#2, name#3, age#4, gender#5, birthday#6, zip#7, city#8, customer_group#697, test_column_1 AS test_column_1#1303]\n   +- Project [cust_id#2, name#3, age#4, gender#5, birthday#6, zip#7, city#8, customer_group#697]\n      +- Project [cust_id#2, name#3, age#4, gender#5, birthday#6, zip#7, city#8, CASE WHEN ((cast(age#4 as int) >= 20) AND (cast(age#4 as int) <= 30)) THEN young WHEN ((cast(age#4 as int) >= 31) AND (cast(age#4 as int) <= 50)) THEN mid WHEN (cast(age#4 as int) > 51) THEN old ELSE kid END AS customer_group#697]\n         +- Filter (city#8 = boston)\n            +- Relation [cust_id#2,name#3,age#4,gender#5,birthday#6,zip#7,city#8] parquet\n\n== Optimized Logical Plan ==\nProject [cust_id#2, name#3, age#4, gender#5, birthday#6, zip#7, city#8, customer_group#697, test_column_1 AS test_column_1#1303, split(birthday#6, /, 4)[2] AS birth_year#1313]\n+- InMemoryRelation [cust_id#2, name#3, age#4, gender#5, birthday#6, zip#7, city#8, customer_group#697], StorageLevel(disk, memory, deserialized, 1 replicas)\n      +- *(1) Project [cust_id#2, name#3, age#4, gender#5, birthday#6, zip#7, city#8, CASE WHEN ((cast(age#4 as int) >= 20) AND (cast(age#4 as int) <= 30)) THEN young WHEN ((cast(age#4 as int) >= 31) AND (cast(age#4 as int) <= 50)) THEN mid WHEN (cast(age#4 as int) > 51) THEN old ELSE kid END AS customer_group#697]\n         +- *(1) Filter (isnotnull(city#8) AND (city#8 = boston))\n            +- *(1) ColumnarToRow\n               +- FileScan parquet [cust_id#2,name#3,age#4,gender#5,birthday#6,zip#7,city#8] Batched: true, DataFilters: [isnotnull(city#8), (city#8 = boston)], Format: Parquet, Location: InMemoryFileIndex(1 paths)[dbfs:/FileStore/customer], PartitionFilters: [], PushedFilters: [IsNotNull(city), EqualTo(city,boston)], ReadSchema: struct<cust_id:string,name:string,age:string,gender:string,birthday:string,zip:string,city:string>\n\n== Physical Plan ==\n*(1) Project [cust_id#2, name#3, age#4, gender#5, birthday#6, zip#7, city#8, customer_group#697, test_column_1 AS test_column_1#1303, split(birthday#6, /, 4)[2] AS birth_year#1313]\n+- InMemoryTableScan [age#4, birthday#6, city#8, cust_id#2, customer_group#697, gender#5, name#3, zip#7], false\n      +- InMemoryRelation [cust_id#2, name#3, age#4, gender#5, birthday#6, zip#7, city#8, customer_group#697], StorageLevel(disk, memory, deserialized, 1 replicas)\n            +- *(1) Project [cust_id#2, name#3, age#4, gender#5, birthday#6, zip#7, city#8, CASE WHEN ((cast(age#4 as int) >= 20) AND (cast(age#4 as int) <= 30)) THEN young WHEN ((cast(age#4 as int) >= 31) AND (cast(age#4 as int) <= 50)) THEN mid WHEN (cast(age#4 as int) > 51) THEN old ELSE kid END AS customer_group#697]\n               +- *(1) Filter (isnotnull(city#8) AND (city#8 = boston))\n                  +- *(1) ColumnarToRow\n                     +- FileScan parquet [cust_id#2,name#3,age#4,gender#5,birthday#6,zip#7,city#8] Batched: true, DataFilters: [isnotnull(city#8), (city#8 = boston)], Format: Parquet, Location: InMemoryFileIndex(1 paths)[dbfs:/FileStore/customer], PartitionFilters: [], PushedFilters: [IsNotNull(city), EqualTo(city,boston)], ReadSchema: struct<cust_id:string,name:string,age:string,gender:string,birthday:string,zip:string,city:string>\n\n+----------+--------------+---+------+---------+-----+------+--------------+-------------+----------+\n|cust_id   |name          |age|gender|birthday |zip  |city  |customer_group|test_column_1|birth_year|\n+----------+--------------+---+------+---------+-----+------+--------------+-------------+----------+\n|C007YEYTX9|Aaron Abbott  |34 |Female|7/13/1991|97823|boston|mid           |test_column_1|1991      |\n|C08XAQUY73|Aaron Lambert |54 |Female|11/5/1966|75218|boston|old           |test_column_1|1966      |\n|C094P1VXF9|Aaron Lindsey |24 |Male  |9/21/1990|29399|boston|young         |test_column_1|1990      |\n|C097SHE1EF|Aaron Lopez   |22 |Female|4/18/2001|82129|boston|young         |test_column_1|2001      |\n|C0DTC6436T|Aaron Schwartz|52 |Female|7/9/1962 |57192|boston|old           |test_column_1|1962      |\n+----------+--------------+---+------+---------+-----+------+--------------+-------------+----------+\nonly showing top 5 rows\n\n"
     ]
    }
   ],
   "source": [
    "df1 = (\n",
    "    df_base\n",
    "    .withColumn(\"test_column_1\", F.lit(\"test_column_1\"))\n",
    "    .withColumn(\"birth_year\", F.split(\"birthday\", \"/\").getItem(2))\n",
    ")\n",
    "\n",
    "df1.explain(True)\n",
    "df1.show(5, False)"
   ]
  },
  {
   "cell_type": "code",
   "execution_count": 0,
   "metadata": {
    "application/vnd.databricks.v1+cell": {
     "cellMetadata": {
      "byteLimit": 2048000,
      "rowLimit": 10000
     },
     "inputWidgets": {},
     "nuid": "246c3bc9-61b5-46b2-a350-b9a2e8effe50",
     "showTitle": false,
     "tableResultSettingsMap": {},
     "title": ""
    }
   },
   "outputs": [
    {
     "output_type": "stream",
     "name": "stdout",
     "output_type": "stream",
     "text": [
      "Out[26]: DataFrame[cust_id: string, name: string, age: string, gender: string, birthday: string, zip: string, city: string, customer_group: string]"
     ]
    }
   ],
   "source": [
    "df_base.unpersist()"
   ]
  },
  {
   "cell_type": "code",
   "execution_count": 0,
   "metadata": {
    "application/vnd.databricks.v1+cell": {
     "cellMetadata": {
      "byteLimit": 2048000,
      "rowLimit": 10000
     },
     "inputWidgets": {},
     "nuid": "95ccfb44-697d-4bf0-9f9c-93125b828e90",
     "showTitle": false,
     "tableResultSettingsMap": {},
     "title": ""
    }
   },
   "outputs": [
    {
     "output_type": "stream",
     "name": "stdout",
     "output_type": "stream",
     "text": [
      "Out[27]: DataFrame[cust_id: string, name: string, age: string, gender: string, birthday: string, zip: string, city: string, customer_group: string]"
     ]
    }
   ],
   "source": [
    "df_base.persist(StorageLevel.DISK_ONLY)"
   ]
  },
  {
   "cell_type": "code",
   "execution_count": 0,
   "metadata": {
    "application/vnd.databricks.v1+cell": {
     "cellMetadata": {
      "byteLimit": 2048000,
      "rowLimit": 10000
     },
     "inputWidgets": {},
     "nuid": "bbd91671-82cb-491b-a022-f8325825f227",
     "showTitle": false,
     "tableResultSettingsMap": {},
     "title": ""
    }
   },
   "outputs": [
    {
     "output_type": "stream",
     "name": "stdout",
     "output_type": "stream",
     "text": [
      "+----------+--------------+---+------+---------+-----+------+--------------+-------------+----------+\n|cust_id   |name          |age|gender|birthday |zip  |city  |customer_group|test_column_1|birth_year|\n+----------+--------------+---+------+---------+-----+------+--------------+-------------+----------+\n|C007YEYTX9|Aaron Abbott  |34 |Female|7/13/1991|97823|boston|mid           |test_column_1|1991      |\n|C08XAQUY73|Aaron Lambert |54 |Female|11/5/1966|75218|boston|old           |test_column_1|1966      |\n|C094P1VXF9|Aaron Lindsey |24 |Male  |9/21/1990|29399|boston|young         |test_column_1|1990      |\n|C097SHE1EF|Aaron Lopez   |22 |Female|4/18/2001|82129|boston|young         |test_column_1|2001      |\n|C0DTC6436T|Aaron Schwartz|52 |Female|7/9/1962 |57192|boston|old           |test_column_1|1962      |\n+----------+--------------+---+------+---------+-----+------+--------------+-------------+----------+\nonly showing top 5 rows\n\n"
     ]
    }
   ],
   "source": [
    "df2 = (\n",
    "    df_base\n",
    "    .withColumn(\"test_column_1\", F.lit(\"test_column_1\"))\n",
    "    .withColumn(\"birth_year\", F.split(\"birthday\", \"/\").getItem(2))\n",
    ")\n",
    "\n",
    "df1.show(5, False)"
   ]
  }
 ],
 "metadata": {
  "application/vnd.databricks.v1+notebook": {
   "computePreferences": null,
   "dashboards": [],
   "environmentMetadata": {
    "base_environment": "",
    "environment_version": "1"
   },
   "inputWidgetPreferences": null,
   "language": "python",
   "notebookMetadata": {
    "pythonIndentUnit": 4
   },
   "notebookName": "Caching and Persisting(4_07_25)",
   "widgets": {}
  }
 },
 "nbformat": 4,
 "nbformat_minor": 0
}