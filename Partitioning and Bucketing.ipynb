{
 "cells": [
  {
   "cell_type": "code",
   "execution_count": 0,
   "metadata": {
    "application/vnd.databricks.v1+cell": {
     "cellMetadata": {
      "byteLimit": 2048000,
      "rowLimit": 10000
     },
     "inputWidgets": {},
     "nuid": "4abb7774-99aa-48f0-aad7-ab08007bca2c",
     "showTitle": false,
     "tableResultSettingsMap": {},
     "title": ""
    }
   },
   "outputs": [],
   "source": [
    "import warnings\n",
    "warnings.filterwarnings(\"ignore\")"
   ]
  },
  {
   "cell_type": "code",
   "execution_count": 0,
   "metadata": {
    "application/vnd.databricks.v1+cell": {
     "cellMetadata": {
      "byteLimit": 2048000,
      "rowLimit": 10000
     },
     "inputWidgets": {},
     "nuid": "bcc1623b-d192-465d-bab6-508134c9a2a4",
     "showTitle": false,
     "tableResultSettingsMap": {},
     "title": ""
    }
   },
   "outputs": [],
   "source": [
    "from pyspark.storagelevel import StorageLevel\n",
    "from pyspark.sql.types import *\n",
    "import pyspark.sql.functions as F\n",
    "from pyspark.sql import SparkSession"
   ]
  },
  {
   "cell_type": "markdown",
   "metadata": {
    "application/vnd.databricks.v1+cell": {
     "cellMetadata": {
      "byteLimit": 2048000,
      "rowLimit": 10000
     },
     "inputWidgets": {},
     "nuid": "8eb1f585-d266-4b47-a43f-fe43739b81c4",
     "showTitle": false,
     "tableResultSettingsMap": {},
     "title": ""
    }
   },
   "source": [
    "#####Folder creation"
   ]
  },
  {
   "cell_type": "code",
   "execution_count": 0,
   "metadata": {
    "application/vnd.databricks.v1+cell": {
     "cellMetadata": {
      "byteLimit": 2048000,
      "rowLimit": 10000
     },
     "inputWidgets": {},
     "nuid": "938fb4d5-7c2f-45e1-95c3-b74202e2a9b9",
     "showTitle": false,
     "tableResultSettingsMap": {},
     "title": ""
    }
   },
   "outputs": [
    {
     "output_type": "stream",
     "name": "stdout",
     "output_type": "stream",
     "text": [
      "Out[47]: True"
     ]
    }
   ],
   "source": [
    "dbutils.fs.rm('dbfs:/FileStore/Spotify',recurse=True)"
   ]
  },
  {
   "cell_type": "code",
   "execution_count": 0,
   "metadata": {
    "application/vnd.databricks.v1+cell": {
     "cellMetadata": {
      "byteLimit": 2048000,
      "rowLimit": 10000
     },
     "inputWidgets": {},
     "nuid": "3df8f89c-2b3b-434e-927f-eadf8cb69191",
     "showTitle": false,
     "tableResultSettingsMap": {},
     "title": ""
    }
   },
   "outputs": [
    {
     "output_type": "stream",
     "name": "stdout",
     "output_type": "stream",
     "text": [
      "Out[48]: True"
     ]
    }
   ],
   "source": [
    "dbutils.fs.mkdirs('dbfs:/FileStore/Spotify')\n"
   ]
  },
  {
   "cell_type": "code",
   "execution_count": 0,
   "metadata": {
    "application/vnd.databricks.v1+cell": {
     "cellMetadata": {
      "byteLimit": 2048000,
      "rowLimit": 10000
     },
     "inputWidgets": {},
     "nuid": "9bd76f0a-01b3-4687-a5a0-d99f067ab6a4",
     "showTitle": false,
     "tableResultSettingsMap": {},
     "title": ""
    }
   },
   "outputs": [
    {
     "output_type": "stream",
     "name": "stdout",
     "output_type": "stream",
     "text": [
      "Out[49]: True"
     ]
    }
   ],
   "source": [
    "dbutils.fs.mkdirs('dbfs:/FileStore/Spotify/raw')"
   ]
  },
  {
   "cell_type": "code",
   "execution_count": 0,
   "metadata": {
    "application/vnd.databricks.v1+cell": {
     "cellMetadata": {
      "byteLimit": 2048000,
      "rowLimit": 10000
     },
     "inputWidgets": {},
     "nuid": "faaf60d7-ae96-450d-9e20-d4e7c10843c9",
     "showTitle": false,
     "tableResultSettingsMap": {},
     "title": ""
    }
   },
   "outputs": [
    {
     "output_type": "stream",
     "name": "stdout",
     "output_type": "stream",
     "text": [
      "Out[50]: True"
     ]
    }
   ],
   "source": [
    "dbutils.fs.mkdirs('dbfs:/FileStore/Spotify/output')"
   ]
  },
  {
   "cell_type": "markdown",
   "metadata": {
    "application/vnd.databricks.v1+cell": {
     "cellMetadata": {},
     "inputWidgets": {},
     "nuid": "9cc39498-09e3-4489-998d-d81cbd204f54",
     "showTitle": false,
     "tableResultSettingsMap": {},
     "title": ""
    }
   },
   "source": [
    "### 1.Partitioning"
   ]
  },
  {
   "cell_type": "markdown",
   "metadata": {
    "application/vnd.databricks.v1+cell": {
     "cellMetadata": {
      "byteLimit": 2048000,
      "rowLimit": 10000
     },
     "inputWidgets": {},
     "nuid": "d164ec4a-67f5-4a04-84c9-c0c55c7a2e26",
     "showTitle": false,
     "tableResultSettingsMap": {},
     "title": ""
    }
   },
   "source": [
    "#####Read the csv file"
   ]
  },
  {
   "cell_type": "code",
   "execution_count": 0,
   "metadata": {
    "application/vnd.databricks.v1+cell": {
     "cellMetadata": {
      "byteLimit": 2048000,
      "rowLimit": 10000
     },
     "inputWidgets": {},
     "nuid": "f94babac-af5c-4481-97cb-68ef9f2bad99",
     "showTitle": false,
     "tableResultSettingsMap": {},
     "title": ""
    }
   },
   "outputs": [
    {
     "output_type": "stream",
     "name": "stdout",
     "output_type": "stream",
     "text": [
      "+-----------+-------+--------------------------+---------------+\n|activity_id|song_id|listen_date               |listen_duration|\n+-----------+-------+--------------------------+---------------+\n|1          |12     |2023-06-27 10:15:47.008867|69             |\n|2          |44     |2023-06-27 10:15:47.008867|300            |\n|3          |75     |2023-06-27 10:15:47.008867|73             |\n|4          |48     |2023-06-27 10:15:47.008867|105            |\n|5          |10     |2023-06-27 10:15:47.008867|229            |\n|6          |82     |2023-06-27 10:15:47.008867|35             |\n|7          |64     |2023-06-27 10:15:47.008867|249            |\n|8          |96     |2023-06-27 10:15:47.008867|211            |\n|9          |52     |2023-06-27 10:15:47.008867|99             |\n|10         |21     |2023-06-27 10:15:47.008867|181            |\n+-----------+-------+--------------------------+---------------+\nonly showing top 10 rows\n\n"
     ]
    }
   ],
   "source": [
    "options={\n",
    "    'header':True,\n",
    "    'inferSchema':True\n",
    "}\n",
    "\n",
    "spot_listn_df=(\n",
    "    spark.read.format('csv').options(**options).load('dbfs:/FileStore/Spotify/raw/Spotify_Listening_Activity.csv')\n",
    ")\n",
    "spot_listn_df.show(10,truncate=False)"
   ]
  },
  {
   "cell_type": "code",
   "execution_count": 0,
   "metadata": {
    "application/vnd.databricks.v1+cell": {
     "cellMetadata": {
      "byteLimit": 2048000,
      "rowLimit": 10000
     },
     "inputWidgets": {},
     "nuid": "6294b8df-ac4f-4bd9-8cfe-1ed912247bd5",
     "showTitle": false,
     "tableResultSettingsMap": {},
     "title": ""
    }
   },
   "outputs": [
    {
     "output_type": "stream",
     "name": "stdout",
     "output_type": "stream",
     "text": [
      "root\n |-- activity_id: integer (nullable = true)\n |-- song_id: integer (nullable = true)\n |-- listen_date: timestamp (nullable = true)\n |-- listen_duration: integer (nullable = true)\n\n"
     ]
    }
   ],
   "source": [
    "spot_listn_df.printSchema()"
   ]
  },
  {
   "cell_type": "code",
   "execution_count": 0,
   "metadata": {
    "application/vnd.databricks.v1+cell": {
     "cellMetadata": {
      "byteLimit": 2048000,
      "rowLimit": 10000
     },
     "inputWidgets": {},
     "nuid": "edd560e1-2521-407f-a985-76937c0fd3f9",
     "showTitle": false,
     "tableResultSettingsMap": {},
     "title": ""
    }
   },
   "outputs": [
    {
     "output_type": "stream",
     "name": "stdout",
     "output_type": "stream",
     "text": [
      "+-----------+-------+--------------------+---------------+-----------+---------+\n|activity_id|song_id|         listen_date|listen_duration|actual_date|actual_hr|\n+-----------+-------+--------------------+---------------+-----------+---------+\n|          1|     12|2023-06-27 10:15:...|             69| 2023-06-27|       10|\n|          2|     44|2023-06-27 10:15:...|            300| 2023-06-27|       10|\n|          3|     75|2023-06-27 10:15:...|             73| 2023-06-27|       10|\n+-----------+-------+--------------------+---------------+-----------+---------+\nonly showing top 3 rows\n\n"
     ]
    }
   ],
   "source": [
    "spot_listn_df_1=(\n",
    "    spot_listn_df.withColumn('actual_date', F.to_date(F.col('listen_date'),'yyyy-MM-dd hh:mm:ss SSSSSS'))\n",
    "                 .withColumn('actual_hr', F.hour(F.col('listen_date')))\n",
    ")\n",
    "spot_listn_df_1.show(3)"
   ]
  },
  {
   "cell_type": "code",
   "execution_count": 0,
   "metadata": {
    "application/vnd.databricks.v1+cell": {
     "cellMetadata": {
      "byteLimit": 2048000,
      "rowLimit": 10000
     },
     "inputWidgets": {},
     "nuid": "7194ce69-1d68-4c15-ab4d-ed2dd6ca5a67",
     "showTitle": false,
     "tableResultSettingsMap": {},
     "title": ""
    }
   },
   "outputs": [
    {
     "output_type": "stream",
     "name": "stdout",
     "output_type": "stream",
     "text": [
      "Out[54]: 11779"
     ]
    }
   ],
   "source": [
    "spot_listn_df_1.count()"
   ]
  },
  {
   "cell_type": "markdown",
   "metadata": {
    "application/vnd.databricks.v1+cell": {
     "cellMetadata": {
      "byteLimit": 2048000,
      "rowLimit": 10000
     },
     "inputWidgets": {},
     "nuid": "a4d0369a-9183-4c8c-960c-0f24e9638436",
     "showTitle": false,
     "tableResultSettingsMap": {},
     "title": ""
    }
   },
   "source": [
    "##### Write the df partion by listen_date"
   ]
  },
  {
   "cell_type": "code",
   "execution_count": 0,
   "metadata": {
    "application/vnd.databricks.v1+cell": {
     "cellMetadata": {
      "byteLimit": 2048000,
      "rowLimit": 10000
     },
     "inputWidgets": {},
     "nuid": "8ad81b6f-5505-44d0-ab3e-550365ba8539",
     "showTitle": false,
     "tableResultSettingsMap": {},
     "title": ""
    }
   },
   "outputs": [
    {
     "output_type": "stream",
     "name": "stdout",
     "output_type": "stream",
     "text": [
      "Write Started\nError while writing-name 'spot_listn_df_1' is not defined\n"
     ]
    }
   ],
   "source": [
    "try:\n",
    "    print('Write Started')\n",
    "    (\n",
    "            spot_listn_df_1.write.partitionBy('actual_date')\n",
    "                            .format('parquet')\n",
    "                            .mode('overwrite')\n",
    "                            .save('dbfs:/FileStore/Spotify/output')\n",
    "    )\n",
    "    print('Write completed')\n",
    "except Exception as e:\n",
    "    print(f\"Error while writing-{str(e)}\")\n"
   ]
  },
  {
   "cell_type": "markdown",
   "metadata": {
    "application/vnd.databricks.v1+cell": {
     "cellMetadata": {
      "byteLimit": 2048000,
      "rowLimit": 10000
     },
     "inputWidgets": {},
     "nuid": "85439dc3-ceca-4ecd-85f7-0fca48ea2471",
     "showTitle": false,
     "tableResultSettingsMap": {},
     "title": ""
    }
   },
   "source": [
    "##### Write the df partion by listen_date and hour"
   ]
  },
  {
   "cell_type": "code",
   "execution_count": 0,
   "metadata": {
    "application/vnd.databricks.v1+cell": {
     "cellMetadata": {
      "byteLimit": 2048000,
      "rowLimit": 10000
     },
     "inputWidgets": {},
     "nuid": "9ef28efa-39b7-44b5-91b8-eadc9023e369",
     "showTitle": false,
     "tableResultSettingsMap": {},
     "title": ""
    }
   },
   "outputs": [
    {
     "output_type": "display_data",
     "data": {
      "text/plain": [
       ""
      ]
     },
     "metadata": {
      "application/vnd.databricks.v1+output": {
       "arguments": {},
       "data": "",
       "errorSummary": "Command skipped",
       "errorTraceType": "ansi",
       "metadata": {},
       "type": "ipynbError"
      }
     },
     "output_type": "display_data"
    }
   ],
   "source": [
    "try:\n",
    "    print('Write Started')\n",
    "    (\n",
    "            spot_listn_df_1.write.partitionBy('actual_date','actual_hr')\n",
    "                            .format('parquet')\n",
    "                            .mode('overwrite')\n",
    "                            .save('dbfs:/FileStore/Spotify/output')\n",
    "    )\n",
    "    print('Write completed')\n",
    "except Exception as e:\n",
    "    print(f\"Error while writing-{str(e)}\")"
   ]
  },
  {
   "cell_type": "markdown",
   "metadata": {
    "application/vnd.databricks.v1+cell": {
     "cellMetadata": {
      "byteLimit": 2048000,
      "rowLimit": 10000
     },
     "inputWidgets": {},
     "nuid": "4a136052-e1c1-4107-8db8-55e4841569ae",
     "showTitle": false,
     "tableResultSettingsMap": {},
     "title": ""
    }
   },
   "source": [
    "##### Write the df partion by listen_date and 3 files in each partition"
   ]
  },
  {
   "cell_type": "code",
   "execution_count": 0,
   "metadata": {
    "application/vnd.databricks.v1+cell": {
     "cellMetadata": {
      "byteLimit": 2048000,
      "rowLimit": 10000
     },
     "inputWidgets": {},
     "nuid": "2c52f64c-2045-4ed7-8c6f-fa8abd37f4ce",
     "showTitle": false,
     "tableResultSettingsMap": {},
     "title": ""
    }
   },
   "outputs": [
    {
     "output_type": "stream",
     "name": "stdout",
     "output_type": "stream",
     "text": [
      "Write Started\nError while writing-name 'spot_listn_df_1' is not defined\n"
     ]
    }
   ],
   "source": [
    "try:\n",
    "    print('Write Started')\n",
    "    (\n",
    "            spot_listn_df_1.repartition(3).write\n",
    "                           .partitionBy('actual_date')\n",
    "                            .format('parquet')\n",
    "                            .mode('overwrite')\n",
    "                            .save('dbfs:/FileStore/Spotify/output')\n",
    "    )\n",
    "    print('Write completed')\n",
    "except Exception as e:\n",
    "    print(f\"Error while writing-{str(e)}\")"
   ]
  },
  {
   "cell_type": "markdown",
   "metadata": {
    "application/vnd.databricks.v1+cell": {
     "cellMetadata": {
      "byteLimit": 2048000,
      "rowLimit": 10000
     },
     "inputWidgets": {},
     "nuid": "ac967d35-4867-4d53-a18e-f98f47fbfd1c",
     "showTitle": false,
     "tableResultSettingsMap": {},
     "title": ""
    }
   },
   "source": [
    "### 2.Bucketing"
   ]
  },
  {
   "cell_type": "code",
   "execution_count": 0,
   "metadata": {
    "application/vnd.databricks.v1+cell": {
     "cellMetadata": {
      "byteLimit": 2048000,
      "rowLimit": 10000
     },
     "inputWidgets": {},
     "nuid": "1993ef7b-e59b-4ade-a534-e7b8332bb5bf",
     "showTitle": false,
     "tableResultSettingsMap": {},
     "title": ""
    }
   },
   "outputs": [
    {
     "output_type": "stream",
     "name": "stdout",
     "output_type": "stream",
     "text": [
      "Out[7]: True"
     ]
    }
   ],
   "source": [
    "dbutils.fs.mkdirs('dbfs:/FileStore/bucketing')"
   ]
  },
  {
   "cell_type": "markdown",
   "metadata": {
    "application/vnd.databricks.v1+cell": {
     "cellMetadata": {},
     "inputWidgets": {},
     "nuid": "814cfc9e-02a7-4ded-8efd-060ee6519c05",
     "showTitle": false,
     "tableResultSettingsMap": {},
     "title": ""
    }
   },
   "source": [
    "####Read files"
   ]
  },
  {
   "cell_type": "code",
   "execution_count": 0,
   "metadata": {
    "application/vnd.databricks.v1+cell": {
     "cellMetadata": {
      "byteLimit": 2048000,
      "rowLimit": 10000
     },
     "inputWidgets": {},
     "nuid": "13d0a31d-3c3d-4a9b-b70a-67c926468949",
     "showTitle": false,
     "tableResultSettingsMap": {},
     "title": ""
    }
   },
   "outputs": [],
   "source": [
    "options={\n",
    "    'header':True,\n",
    "    'inferSchema':True\n",
    "}\n",
    "order_df=(\n",
    "    spark.read.format('csv')\n",
    "    .options(**options)\n",
    "    .load('dbfs:/FileStore/bucketing/orders.csv')\n",
    ")"
   ]
  },
  {
   "cell_type": "code",
   "execution_count": 0,
   "metadata": {
    "application/vnd.databricks.v1+cell": {
     "cellMetadata": {
      "byteLimit": 2048000,
      "rowLimit": 10000
     },
     "inputWidgets": {},
     "nuid": "41f0a4fd-58c3-4afe-b159-4e7e5cab3ea1",
     "showTitle": false,
     "tableResultSettingsMap": {},
     "title": ""
    }
   },
   "outputs": [
    {
     "output_type": "stream",
     "name": "stdout",
     "output_type": "stream",
     "text": [
      "Out[11]: 1000"
     ]
    }
   ],
   "source": [
    "order_df.count()"
   ]
  },
  {
   "cell_type": "code",
   "execution_count": 0,
   "metadata": {
    "application/vnd.databricks.v1+cell": {
     "cellMetadata": {
      "byteLimit": 2048000,
      "rowLimit": 10000
     },
     "inputWidgets": {},
     "nuid": "34aaf197-b98e-43f1-9fa7-7342ce477442",
     "showTitle": false,
     "tableResultSettingsMap": {},
     "title": ""
    }
   },
   "outputs": [
    {
     "output_type": "stream",
     "name": "stdout",
     "output_type": "stream",
     "text": [
      "+--------+----------+-----------+--------+----------+------------+\n|order_id|product_id|customer_id|quantity|order_date|total_amount|\n+--------+----------+-----------+--------+----------+------------+\n|       1|        80|         10|       4|2023-03-20|        1003|\n|       2|        69|         30|       3|2023-12-11|         780|\n|       3|        61|         20|       4|2023-04-26|        1218|\n|       4|        62|         44|       3|2023-08-26|        2022|\n|       5|        78|         46|       4|2023-08-05|        1291|\n+--------+----------+-----------+--------+----------+------------+\nonly showing top 5 rows\n\n"
     ]
    }
   ],
   "source": [
    "order_df.show(5)"
   ]
  },
  {
   "cell_type": "code",
   "execution_count": 0,
   "metadata": {
    "application/vnd.databricks.v1+cell": {
     "cellMetadata": {
      "byteLimit": 2048000,
      "rowLimit": 10000
     },
     "inputWidgets": {},
     "nuid": "59b4d9bf-01af-46fe-b66e-23ca49d70f42",
     "showTitle": false,
     "tableResultSettingsMap": {},
     "title": ""
    }
   },
   "outputs": [],
   "source": [
    "options={\n",
    "    'header':True,\n",
    "    'inferSchema':True\n",
    "}\n",
    "products_df=(\n",
    "    spark.read.format('csv')\n",
    "    .options(**options)\n",
    "    .load('dbfs:/FileStore/bucketing/products.csv')\n",
    ")"
   ]
  },
  {
   "cell_type": "code",
   "execution_count": 0,
   "metadata": {
    "application/vnd.databricks.v1+cell": {
     "cellMetadata": {
      "byteLimit": 2048000,
      "rowLimit": 10000
     },
     "inputWidgets": {},
     "nuid": "d7c3bec8-62f2-472c-9e5a-bed1dd5d005b",
     "showTitle": false,
     "tableResultSettingsMap": {},
     "title": ""
    }
   },
   "outputs": [
    {
     "output_type": "stream",
     "name": "stdout",
     "output_type": "stream",
     "text": [
      "Out[13]: 100"
     ]
    }
   ],
   "source": [
    "products_df.count()"
   ]
  },
  {
   "cell_type": "code",
   "execution_count": 0,
   "metadata": {
    "application/vnd.databricks.v1+cell": {
     "cellMetadata": {
      "byteLimit": 2048000,
      "rowLimit": 10000
     },
     "inputWidgets": {},
     "nuid": "b973abb8-aab3-4e7d-ab7d-73f5874fdbda",
     "showTitle": false,
     "tableResultSettingsMap": {},
     "title": ""
    }
   },
   "outputs": [
    {
     "output_type": "stream",
     "name": "stdout",
     "output_type": "stream",
     "text": [
      "+----------+------------+-----------+-------+-----+-----+\n|product_id|product_name|   category|  brand|price|stock|\n+----------+------------+-----------+-------+-----+-----+\n|         1|   Product_1|Electronics|Brand_4|   26|  505|\n|         2|   Product_2|    Apparel|Brand_4|  489|   15|\n|         3|   Product_3|    Apparel|Brand_4|  102|  370|\n|         4|   Product_4|  Groceries|Brand_1|   47|  433|\n|         5|   Product_5|  Groceries|Brand_3|  244|  902|\n+----------+------------+-----------+-------+-----+-----+\nonly showing top 5 rows\n\n"
     ]
    }
   ],
   "source": [
    "products_df.show(5)"
   ]
  },
  {
   "cell_type": "code",
   "execution_count": 0,
   "metadata": {
    "application/vnd.databricks.v1+cell": {
     "cellMetadata": {
      "byteLimit": 2048000,
      "rowLimit": 10000
     },
     "inputWidgets": {},
     "nuid": "52792d75-c359-4c97-86bb-1fee0078a642",
     "showTitle": false,
     "tableResultSettingsMap": {},
     "title": ""
    }
   },
   "outputs": [],
   "source": [
    "spark.conf.set(\"spark.sql.autoBroadcastJoinThreshold\",-1)\n",
    "spark.conf.set(\"spark.sql.adaptive.enabled\", \"false\")"
   ]
  },
  {
   "cell_type": "markdown",
   "metadata": {
    "application/vnd.databricks.v1+cell": {
     "cellMetadata": {},
     "inputWidgets": {},
     "nuid": "728ab7c5-f7ec-4985-8c06-1cd0bfc04467",
     "showTitle": false,
     "tableResultSettingsMap": {},
     "title": ""
    }
   },
   "source": [
    "**Join without bucketing**"
   ]
  },
  {
   "cell_type": "code",
   "execution_count": 0,
   "metadata": {
    "application/vnd.databricks.v1+cell": {
     "cellMetadata": {
      "byteLimit": 2048000,
      "rowLimit": 10000
     },
     "inputWidgets": {},
     "nuid": "9f6ee267-da6a-4b23-bfbc-c93f38749b3f",
     "showTitle": false,
     "tableResultSettingsMap": {},
     "title": ""
    }
   },
   "outputs": [],
   "source": [
    "joined_df=(\n",
    "    order_df.join(products_df,order_df.product_id== products_df.product_id,'left_outer')\n",
    ")"
   ]
  },
  {
   "cell_type": "code",
   "execution_count": 0,
   "metadata": {
    "application/vnd.databricks.v1+cell": {
     "cellMetadata": {
      "byteLimit": 2048000,
      "rowLimit": 10000
     },
     "inputWidgets": {},
     "nuid": "17868fff-ab4d-4c2c-a0e7-ce04c4c0ae8c",
     "showTitle": false,
     "tableResultSettingsMap": {},
     "title": ""
    }
   },
   "outputs": [],
   "source": [
    "joined_df.write.format('noop').mode('overwrite').option('header','true').save('dbfs:/FileStore/bucketing/output')"
   ]
  },
  {
   "cell_type": "code",
   "execution_count": 0,
   "metadata": {
    "application/vnd.databricks.v1+cell": {
     "cellMetadata": {
      "byteLimit": 2048000,
      "rowLimit": 10000
     },
     "inputWidgets": {},
     "nuid": "240b7f6a-fea5-49fd-adaf-ad05908643f6",
     "showTitle": false,
     "tableResultSettingsMap": {},
     "title": ""
    }
   },
   "outputs": [
    {
     "output_type": "stream",
     "name": "stdout",
     "output_type": "stream",
     "text": [
      "== Parsed Logical Plan ==\nJoin LeftOuter, (product_id#47 = product_id#159)\n:- Relation [order_id#46,product_id#47,customer_id#48,quantity#49,order_date#50,total_amount#51] csv\n+- Relation [product_id#159,product_name#160,category#161,brand#162,price#163,stock#164] csv\n\n== Analyzed Logical Plan ==\norder_id: int, product_id: int, customer_id: int, quantity: int, order_date: date, total_amount: int, product_id: int, product_name: string, category: string, brand: string, price: int, stock: int\nJoin LeftOuter, (product_id#47 = product_id#159)\n:- Relation [order_id#46,product_id#47,customer_id#48,quantity#49,order_date#50,total_amount#51] csv\n+- Relation [product_id#159,product_name#160,category#161,brand#162,price#163,stock#164] csv\n\n== Optimized Logical Plan ==\nJoin LeftOuter, (product_id#47 = product_id#159)\n:- Relation [order_id#46,product_id#47,customer_id#48,quantity#49,order_date#50,total_amount#51] csv\n+- Filter isnotnull(product_id#159)\n   +- Relation [product_id#159,product_name#160,category#161,brand#162,price#163,stock#164] csv\n\n== Physical Plan ==\n*(2) SortMergeJoin [product_id#47], [product_id#159], LeftOuter\n:- Sort [product_id#47 ASC NULLS FIRST], false, 0\n:  +- Exchange hashpartitioning(product_id#47, 200), ENSURE_REQUIREMENTS, [plan_id=207]\n:     +- FileScan csv [order_id#46,product_id#47,customer_id#48,quantity#49,order_date#50,total_amount#51] Batched: false, DataFilters: [], Format: CSV, Location: InMemoryFileIndex(1 paths)[dbfs:/FileStore/bucketing/orders.csv], PartitionFilters: [], PushedFilters: [], ReadSchema: struct<order_id:int,product_id:int,customer_id:int,quantity:int,order_date:date,total_amount:int>\n+- Sort [product_id#159 ASC NULLS FIRST], false, 0\n   +- Exchange hashpartitioning(product_id#159, 200), ENSURE_REQUIREMENTS, [plan_id=216]\n      +- *(1) Filter isnotnull(product_id#159)\n         +- FileScan csv [product_id#159,product_name#160,category#161,brand#162,price#163,stock#164] Batched: false, DataFilters: [isnotnull(product_id#159)], Format: CSV, Location: InMemoryFileIndex(1 paths)[dbfs:/FileStore/bucketing/products.csv], PartitionFilters: [], PushedFilters: [IsNotNull(product_id)], ReadSchema: struct<product_id:int,product_name:string,category:string,brand:string,price:int,stock:int>\n\n"
     ]
    }
   ],
   "source": [
    "joined_df.explain(True)"
   ]
  },
  {
   "cell_type": "markdown",
   "metadata": {
    "application/vnd.databricks.v1+cell": {
     "cellMetadata": {},
     "inputWidgets": {},
     "nuid": "c977bb59-6d79-4aed-a6af-cac8bb032587",
     "showTitle": false,
     "tableResultSettingsMap": {},
     "title": ""
    }
   },
   "source": [
    "**Join with bucketing**"
   ]
  },
  {
   "cell_type": "code",
   "execution_count": 0,
   "metadata": {
    "application/vnd.databricks.v1+cell": {
     "cellMetadata": {
      "byteLimit": 2048000,
      "rowLimit": 10000
     },
     "inputWidgets": {},
     "nuid": "e3dd24cc-ae4a-476e-b9ec-faa37ef65e24",
     "showTitle": false,
     "tableResultSettingsMap": {},
     "title": ""
    }
   },
   "outputs": [],
   "source": [
    "(\n",
    "    order_df.write.bucketBy(3,\"product_id\")\n",
    "    .format('csv')\n",
    "    .mode('overwrite')\n",
    "    .option('header','true')\n",
    "    .option('path','dbfs:/FileStore/bucketing/order_bucketed')\n",
    "    .saveAsTable('order_bucketed')\n",
    ")"
   ]
  },
  {
   "cell_type": "code",
   "execution_count": 0,
   "metadata": {
    "application/vnd.databricks.v1+cell": {
     "cellMetadata": {},
     "inputWidgets": {},
     "nuid": "e0094d9c-cae6-4be5-8623-27de5ebe224d",
     "showTitle": false,
     "tableResultSettingsMap": {},
     "title": ""
    }
   },
   "outputs": [],
   "source": [
    "(\n",
    "    products_df.write.bucketBy(3,\"product_id\")\n",
    "    .format('csv')\n",
    "    .mode('overwrite')\n",
    "    .option('header','true')\n",
    "    .option('path','dbfs:/FileStore/bucketing/product_bucketed')\n",
    "    .saveAsTable('product_bucketed')\n",
    ")"
   ]
  }
 ],
 "metadata": {
  "application/vnd.databricks.v1+notebook": {
   "computePreferences": null,
   "dashboards": [],
   "environmentMetadata": {
    "base_environment": "",
    "environment_version": "1"
   },
   "inputWidgetPreferences": null,
   "language": "python",
   "notebookMetadata": {
    "pythonIndentUnit": 4
   },
   "notebookName": "Partitioning and Bucketing",
   "widgets": {}
  }
 },
 "nbformat": 4,
 "nbformat_minor": 0
}